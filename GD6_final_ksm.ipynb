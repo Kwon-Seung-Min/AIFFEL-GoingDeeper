{
 "cells": [
  {
   "cell_type": "markdown",
   "id": "compatible-southwest",
   "metadata": {},
   "source": [
    "# 🍀 NLP Going Deeper : 임베딩 내 편향성 측정 🍀"
   ]
  },
  {
   "cell_type": "markdown",
   "id": "perceived-veteran",
   "metadata": {},
   "source": [
    "워드 임베딩 벡터들 간에는 의미적인 유사도 거리를 정량적으로 측정할 수 있다.\n",
    "\n",
    "그렇다면 **워드 임베딩에 내포된 편향성도 정량적으로 측정할 수 있을까?** 우리는 이러한 의문에서 프로젝트를 다가가 본다."
   ]
  },
  {
   "cell_type": "markdown",
   "id": "unusual-projection",
   "metadata": {},
   "source": [
    "## WEAT (Word Embedding Association Test)"
   ]
  },
  {
   "cell_type": "markdown",
   "id": "actual-delhi",
   "metadata": {},
   "source": [
    "**관련 논문 : https://arxiv.org/pdf/1608.07187.**"
   ]
  },
  {
   "cell_type": "markdown",
   "id": "modified-gasoline",
   "metadata": {},
   "source": [
    "**WEAT**는 임베딩 모델의 편향을 측정하는 방식 중 하나로, Aylin Caliskan이 2016년 제안하였다.\n",
    "\n",
    "우리는 우선 프로젝트를 시작하기에 앞서 WEAT를 어떻게 구현하는지 살펴보기로 한다."
   ]
  },
  {
   "cell_type": "code",
   "execution_count": 1,
   "id": "secret-cement",
   "metadata": {},
   "outputs": [
    {
     "name": "stdout",
     "output_type": "stream",
     "text": [
      "라이브러리 import!\n"
     ]
    }
   ],
   "source": [
    "import numpy as np\n",
    "from numpy import dot\n",
    "from numpy.linalg import norm\n",
    "\n",
    "print('라이브러리 import!')"
   ]
  },
  {
   "cell_type": "markdown",
   "id": "coordinated-mixer",
   "metadata": {},
   "source": [
    "이쯤에서 두 개의 target 단어 셋 X, Y와 두 개의 attribute 단어 셋 A, B를 정의한다.\n",
    "\n",
    "**단어 셋을 정할 때에는 두 개의 target 셋과 두 개의 attribute 셋의 크기가 각각 모두 같아야 한다.**"
   ]
  },
  {
   "attachments": {
    "001.PNG": {
     "image/png": "[encoded data removed]"
    }
   },
   "cell_type": "markdown",
   "id": "worldwide-harassment",
   "metadata": {},
   "source": [
    "![001.PNG](attachment:001.PNG)"
   ]
  },
  {
   "cell_type": "markdown",
   "id": "valued-championship",
   "metadata": {},
   "source": [
    "위 단어들의 임베딩 결과가 다음과 같이 나왔다고 가정한다."
   ]
  },
  {
   "cell_type": "code",
   "execution_count": 2,
   "id": "mathematical-globe",
   "metadata": {},
   "outputs": [],
   "source": [
    "target_X = {\n",
    "    '장미': [4.1, 1.2, -2.4, 0.5, 4.1],\n",
    "    '튤립': [3.1, 0.5, 3.6, 1.7, 5.8],\n",
    "    '백합': [2.9, -1.3, 0.4, 1.1, 3.7],\n",
    "    '데이지': [5.4, 2.5, 4.6, -1.0, 3.6]\n",
    "}\n",
    "target_Y = {\n",
    "    '거미': [-1.5, 0.2, -0.6, -4.6, -5.3],\n",
    "    '모기': [0.4, 0.7, -1.9, -4.5, -2.9],\n",
    "    '파리': [0.9, 1.4, -2.3, -3.9, -4.7],\n",
    "    '메뚜기': [0.7, 0.9, -0.4, -4.1, -3.9]\n",
    "}\n",
    "attribute_A = {\n",
    "    '사랑':[2.8,  4.2, 4.3,  0.3, 5.0],\n",
    "    '행복':[3.8,  3. , -1.2,  4.4, 4.9],\n",
    "    '웃음':[3.7, -0.3,  1.2, -2.5, 3.9]\n",
    "}\n",
    "attribute_B = {\n",
    "    '재난': [-0.2, -2.8, -4.7, -4.3, -4.7],\n",
    "    '고통': [-4.5, -2.1,  -3.8, -3.6, -3.1],\n",
    "    '증오': [-3.6, -3.3, -3.5,  -3.7, -4.4]\n",
    "}"
   ]
  },
  {
   "cell_type": "code",
   "execution_count": 3,
   "id": "fresh-breath",
   "metadata": {},
   "outputs": [
    {
     "name": "stdout",
     "output_type": "stream",
     "text": [
      "[[ 4.1  1.2 -2.4  0.5  4.1]\n",
      " [ 3.1  0.5  3.6  1.7  5.8]\n",
      " [ 2.9 -1.3  0.4  1.1  3.7]\n",
      " [ 5.4  2.5  4.6 -1.   3.6]]\n",
      "[[-1.5  0.2 -0.6 -4.6 -5.3]\n",
      " [ 0.4  0.7 -1.9 -4.5 -2.9]\n",
      " [ 0.9  1.4 -2.3 -3.9 -4.7]\n",
      " [ 0.7  0.9 -0.4 -4.1 -3.9]]\n"
     ]
    }
   ],
   "source": [
    "X = np.array([v for v in target_X.values()])\n",
    "Y = np.array([v for v in target_Y.values()])\n",
    "print(X)\n",
    "print(Y)"
   ]
  },
  {
   "cell_type": "code",
   "execution_count": 4,
   "id": "adverse-director",
   "metadata": {},
   "outputs": [
    {
     "name": "stdout",
     "output_type": "stream",
     "text": [
      "[[ 2.8  4.2  4.3  0.3  5. ]\n",
      " [ 3.8  3.  -1.2  4.4  4.9]\n",
      " [ 3.7 -0.3  1.2 -2.5  3.9]]\n",
      "[[-0.2 -2.8 -4.7 -4.3 -4.7]\n",
      " [-4.5 -2.1 -3.8 -3.6 -3.1]\n",
      " [-3.6 -3.3 -3.5 -3.7 -4.4]]\n"
     ]
    }
   ],
   "source": [
    "A = np.array([v for v in attribute_A.values()])\n",
    "B = np.array([v for v in attribute_B.values()])\n",
    "print(A)\n",
    "print(B)"
   ]
  },
  {
   "cell_type": "markdown",
   "id": "tribal-dynamics",
   "metadata": {},
   "source": [
    "**s('장미', A, B) 는 어떻게 계산할까요?**\n",
    "\n",
    "이쯤에서 WEAT Score는 아래 수식으로 정의가 됩니다."
   ]
  },
  {
   "attachments": {
    "002.PNG": {
     "image/png": "[encoded data removed]"
    }
   },
   "cell_type": "markdown",
   "id": "future-bleeding",
   "metadata": {},
   "source": [
    "![002.PNG](attachment:002.PNG)"
   ]
  },
  {
   "cell_type": "markdown",
   "id": "fleet-research",
   "metadata": {},
   "source": [
    "WEAT score를 계산하기 위한 식을 하나씩 살펴보자. 이 테스트는 두 벡터의 유사도를 측정하기 위해 cosine similarity를 이용한다.\n",
    "\n",
    "cosine similarity는 두 벡터 사이의 cosine 값을 이용하여 두 벡터의 유사도를 측정한다.\n",
    "\n",
    "두 벡터 i,j가 주어졌을 때, cosine similarity cos(θ)는 dot product와 magnitude를 사용하여 구할 수 있다.\n",
    "\n",
    "**cos(θ)는 총 3가지 값을 갖는다.**\n",
    "\n",
    "- cos(θ)가 1이면 두 벡터의 방향이 같음을 의미한다.\n",
    "- cos(θ)가 0이면 두 벡터가 직교함을 의미한다.\n",
    "- cos(θ)가 -1이면 두 벡터의 방향이 서로 반대임을 의미한다."
   ]
  },
  {
   "attachments": {
    "003.PNG": {
     "image/png": "[encoded data removed]"
    }
   },
   "cell_type": "markdown",
   "id": "artificial-encoding",
   "metadata": {},
   "source": [
    "![003.PNG](attachment:003.PNG)"
   ]
  },
  {
   "cell_type": "markdown",
   "id": "nuclear-latex",
   "metadata": {},
   "source": [
    "이제 WEAT Score의 다음 부분으로 넘어가 살펴보자.\n",
    "\n",
    "WEAT Score에서 식의 분자 부분은 target X, Y에 속하는 각 단어 xx, yy들이 개념축 A-B에 대해 가지는 편향성을 각각 평균 내서 뺀 차이다.\n",
    "\n",
    "즉, X에 속하는 단어들과 Y에 속하는 단어들이 A-B 개념축에 대해 가지는 편향성의 정도가 뚜렷이 차이가 날 수록 이 WEAT score 식의 분자값의 절댓값은 커지게 됩니다. 이 값을 X, Y에 속하는 모든 단어들이 가지는 편향성 값의 표준편차(std)로 normalize한 값이 최종 WEAT score가 됩니다."
   ]
  },
  {
   "cell_type": "markdown",
   "id": "wanted-letter",
   "metadata": {},
   "source": [
    "**내용을 살펴보았으니, 이제 s('장미', A, B)는 어떻게 나오는지 살펴보자. 코사인 유사도 함수를 정의하고 활용한다.**"
   ]
  },
  {
   "cell_type": "code",
   "execution_count": 5,
   "id": "alone-threshold",
   "metadata": {},
   "outputs": [
    {
     "name": "stdout",
     "output_type": "stream",
     "text": [
      "0.6457646122337399\n"
     ]
    }
   ],
   "source": [
    "def cos_sim(i, j):\n",
    "    return dot(i, j.T)/(norm(i)*norm(j))\n",
    "\n",
    "def s(w, A, B):\n",
    "    c_a = cos_sim(w, A)\n",
    "    c_b = cos_sim(w, B)\n",
    "    mean_A = np.mean(c_a, axis=-1)\n",
    "    mean_B = np.mean(c_b, axis=-1)\n",
    "    return mean_A - mean_B #, c_a, c_b\n",
    "\n",
    "print(s(target_X['장미'], A, B))"
   ]
  },
  {
   "cell_type": "markdown",
   "id": "operating-playback",
   "metadata": {},
   "source": [
    "**WEAT score의 값이 양수이므로, target_X에 있는 '장미'라는 단어는 attribute_B(불쾌)보다 attribute_A(유쾌)와 더 가깝다는 것**을 알 수 있다. target_Y에 있는 '거미'와 attribute_A, attribute_B와의 관계도 살펴보자."
   ]
  },
  {
   "cell_type": "code",
   "execution_count": 6,
   "id": "nasty-porcelain",
   "metadata": {},
   "outputs": [
    {
     "name": "stdout",
     "output_type": "stream",
     "text": [
      "-0.794002342033094\n"
     ]
    }
   ],
   "source": [
    "print(s(target_Y['거미'], A, B))"
   ]
  },
  {
   "cell_type": "markdown",
   "id": "latest-toyota",
   "metadata": {},
   "source": [
    "**WEAT score의 값이 음수이므로, '거미'는 attribute_B와 더 가깝다는 것**을 알 수 있다.\n",
    "\n",
    "그럼 target_X와 attribute_A, attribute_B 사의의 평균값, 그리고 target_Y와 attribute_A, attribute_B 사의의 평균값은 어떻게 될까?"
   ]
  },
  {
   "cell_type": "code",
   "execution_count": 7,
   "id": "younger-programming",
   "metadata": {},
   "outputs": [
    {
     "name": "stdout",
     "output_type": "stream",
     "text": [
      "[0.29551989 0.51723181 0.26499096 0.50924109]\n",
      "0.397\n"
     ]
    }
   ],
   "source": [
    "print(s(X, A, B))\n",
    "print(round(np.mean(s(X, A, B)), 3))"
   ]
  },
  {
   "cell_type": "code",
   "execution_count": 8,
   "id": "reasonable-alaska",
   "metadata": {},
   "outputs": [
    {
     "name": "stdout",
     "output_type": "stream",
     "text": [
      "[-0.44713039 -0.28310853 -0.33144878 -0.26030641]\n",
      "-0.33\n"
     ]
    }
   ],
   "source": [
    "print(s(Y, A, B))\n",
    "print(round(np.mean(s(Y, A, B)), 3))"
   ]
  },
  {
   "cell_type": "markdown",
   "id": "fourth-lebanon",
   "metadata": {},
   "source": [
    "한편, 위에서 살펴본 WEAT Score의 수식을 파이썬으로 전체 구현하면 아래와 같다."
   ]
  },
  {
   "cell_type": "code",
   "execution_count": 9,
   "id": "cellular-measure",
   "metadata": {},
   "outputs": [
    {
     "name": "stdout",
     "output_type": "stream",
     "text": [
      "1.932\n"
     ]
    }
   ],
   "source": [
    "def weat_score(X, Y, A, B):\n",
    "    \n",
    "    s_X = s(X, A, B)\n",
    "    s_Y = s(Y, A, B)\n",
    "\n",
    "    mean_X = np.mean(s_X)\n",
    "    mean_Y = np.mean(s_Y)\n",
    "    \n",
    "    std_dev = np.std(np.concatenate([s_X, s_Y], axis=0))\n",
    "    \n",
    "    return  (mean_X-mean_Y)/std_dev\n",
    "\n",
    "print(round(weat_score(X, Y, A, B), 3))"
   ]
  },
  {
   "cell_type": "markdown",
   "id": "auburn-johnston",
   "metadata": {},
   "source": [
    "WEAT score가 매우 높게 나온 것을 알 수 있다. 즉, **꽃은 유쾌한 단어와 상대적으로 가깝고, 곤충은 불쾌한 단어와 가깝다는 것**을 수치적으로 확인할 수 있다.\n",
    "\n",
    "이제 이를 시각적으로 확인해 보고자 한다. 이 과정을 위해 PCA를 통해 5차원이었던 벡터를 2차원으로 줄여 그림을 그린다."
   ]
  },
  {
   "cell_type": "code",
   "execution_count": 10,
   "id": "second-surge",
   "metadata": {},
   "outputs": [
    {
     "data": {
      "text/plain": [
       "<matplotlib.collections.PathCollection at 0x7ff2ab020950>"
      ]
     },
     "execution_count": 10,
     "metadata": {},
     "output_type": "execute_result"
    },
    {
     "data": {
      "image/png": "[encoded data removed]",
      "text/plain": [
       "<Figure size 432x288 with 1 Axes>"
      ]
     },
     "metadata": {
      "needs_background": "light"
     },
     "output_type": "display_data"
    }
   ],
   "source": [
    "from sklearn.decomposition import PCA\n",
    "pca = PCA(n_components=2)\n",
    "pc_A = pca.fit_transform(A)\n",
    "pc_B = pca.fit_transform(B)\n",
    "pc_X = pca.fit_transform(X)\n",
    "pc_Y = pca.fit_transform(Y)\n",
    "\n",
    "import matplotlib.pyplot as plt\n",
    "fig, ax = plt.subplots()\n",
    "ax.scatter(pc_A[:,0],pc_A[:,1], c='blue', label='A')\n",
    "ax.scatter(pc_B[:,0],pc_B[:,1], c='red', label='B')\n",
    "ax.scatter(pc_X[:,0],pc_X[:,1], c='skyblue', label='X')\n",
    "ax.scatter(pc_Y[:,0],pc_Y[:,1], c='pink', label='Y')"
   ]
  },
  {
   "cell_type": "markdown",
   "id": "relevant-future",
   "metadata": {},
   "source": [
    "위 그림을 통해 파란색 점(A)과 하늘색 점(X)이 가깝고, 빨간색 점(B)과 분홍색 점(Y)이 가깝게 표현되었음을 알 수 있다! 😄😄"
   ]
  },
  {
   "cell_type": "markdown",
   "id": "cutting-integer",
   "metadata": {},
   "source": [
    "## ⏰ 긴급 안내 ⏰"
   ]
  },
  {
   "cell_type": "markdown",
   "id": "cross-decimal",
   "metadata": {},
   "source": [
    "해당 노드의 더 깊은 부분을 다루어보려고 하였으나, 미니 해커톤으로 인해 여기까지만 하도록 하겠습니다.\n",
    "\n",
    "만일 시간이 남게 된다면 언젠가는 다시 돌아와서 다루어 보고 싶습니다 ㅠㅠ"
   ]
  }
 ],
 "metadata": {
  "kernelspec": {
   "display_name": "Python 3",
   "language": "python",
   "name": "python3"
  },
  "language_info": {
   "codemirror_mode": {
    "name": "ipython",
    "version": 3
   },
   "file_extension": ".py",
   "mimetype": "text/x-python",
   "name": "python",
   "nbconvert_exporter": "python",
   "pygments_lexer": "ipython3",
   "version": "3.7.9"
  }
 },
 "nbformat": 4,
 "nbformat_minor": 5
}
